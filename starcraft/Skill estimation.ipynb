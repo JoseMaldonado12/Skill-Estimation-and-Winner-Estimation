{
 "cells": [
  {
   "cell_type": "markdown",
   "metadata": {},
   "source": [
    "# Loading data"
   ]
  },
  {
   "cell_type": "code",
   "execution_count": 131,
   "metadata": {},
   "outputs": [],
   "source": [
    "import numpy as np \n",
    "import matplotlib.pyplot as plt\n",
    "import networkx as nx\n",
    "import pystan\n",
    "\n",
    "# Load training data and reduce (subsample) if desired\n",
    "\n",
    "# Read thru file to get numeric ids for each player \n",
    "with open('train.csv') as f: lines = f.read().split('\\n')\n",
    "\n",
    "p = 0; playerid = {};\n",
    "for i in range(len(lines)):\n",
    "    csv = lines[i].split(',');\n",
    "    if len(csv) != 10: continue;   # parse error or blank line\n",
    "    player0,player1 = csv[1],csv[4];\n",
    "    if player0 not in playerid: playerid[player0]=p; p+=1;\n",
    "    if player1 not in playerid: playerid[player1]=p; p+=1;\n",
    "\n",
    "nplayers = len(playerid)\n",
    "playername = ['']*nplayers\n",
    "for player in playerid: playername[ playerid[player] ]=player;  # id to name lookup\n",
    "\n",
    "\n",
    "# Sparsifying parameters (discard some training examples):\n",
    "pKeep = 1.0   # fraction of edges to consider (immed. throw out 1-p edges)\n",
    "nEdge = 3     # try to keep nEdge opponents per player (may be more; asymmetric)\n",
    "nKeep = 5     # keep at most nKeep games per opponent pairs (play each other multiple times)\n",
    "\n",
    "nplays, nwins = np.zeros( (nplayers,nplayers) ), np.zeros( (nplayers,nplayers) );\n",
    "for i in range(len(lines)):\n",
    "    csv = lines[i].split(',');\n",
    "    if len(csv) != 10: continue;   # parse error or blank line\n",
    "    a,b = playerid[csv[1]],playerid[csv[4]];\n",
    "    aw,bw = csv[2]=='[winner]',csv[5]=='[winner]';\n",
    "    if (np.random.rand() < pKeep):\n",
    "        if (nplays[a,b] < nKeep) and ( ((nplays[a,:]>0).sum() < nEdge) or ((nplays[:,b]>0).sum() < nEdge) ):\n",
    "            nplays[a,b] += 1; nplays[b,a]+=1; nwins[a,b] += aw; nwins[b,a] += bw;"
   ]
  },
  {
   "cell_type": "code",
   "execution_count": 132,
   "metadata": {},
   "outputs": [
    {
     "data": {
      "text/plain": [
       "999"
      ]
     },
     "execution_count": 132,
     "metadata": {},
     "output_type": "execute_result"
    }
   ],
   "source": [
    "nplayers # number of unique players"
   ]
  },
  {
   "cell_type": "code",
   "execution_count": 133,
   "metadata": {},
   "outputs": [
    {
     "name": "stdout",
     "output_type": "stream",
     "text": [
      "MC vs Stats\n"
     ]
    }
   ],
   "source": [
    "playerid # map from playername -> playerID\n",
    "playername[0] # list of playernames indexed by their ID\n",
    "print(playername[0], \"vs\", playername[1])"
   ]
  },
  {
   "cell_type": "code",
   "execution_count": 134,
   "metadata": {},
   "outputs": [
    {
     "data": {
      "text/plain": [
       "2.0"
      ]
     },
     "execution_count": 134,
     "metadata": {},
     "output_type": "execute_result"
    }
   ],
   "source": [
    "nplays[0,1] # number of games between player 0 and player 1"
   ]
  },
  {
   "cell_type": "code",
   "execution_count": 135,
   "metadata": {},
   "outputs": [
    {
     "data": {
      "text/plain": [
       "5.0"
      ]
     },
     "execution_count": 135,
     "metadata": {},
     "output_type": "execute_result"
    }
   ],
   "source": [
    "nwins[0,1] # number of wins between player 0 and player 1\n",
    "np.max(nwins) # maximum number of wins against a single opponent is 5 "
   ]
  },
  {
   "cell_type": "code",
   "execution_count": 136,
   "metadata": {},
   "outputs": [
    {
     "data": {
      "text/plain": [
       "9354.0"
      ]
     },
     "execution_count": 136,
     "metadata": {},
     "output_type": "execute_result"
    }
   ],
   "source": [
    "np.sum(nplays)  # number of player vs player combinations"
   ]
  },
  {
   "cell_type": "code",
   "execution_count": 137,
   "metadata": {},
   "outputs": [],
   "source": [
    "import numpy as np\n",
    "import pystan\n",
    "import matplotlib.pyplot as plt\n",
    "%matplotlib inline\n",
    "\n",
    "win = []\n",
    "PA = []\n",
    "PB = []\n",
    "for index, wins in np.ndenumerate(nwins):\n",
    "    if wins == 0: continue\n",
    "    win.append(int(wins))\n",
    "    PA.append(index[0] + 1)           # increment so we can index starting at 1\n",
    "    PB.append(index[1] + 1)           # player 0 is now player 1"
   ]
  },
  {
   "cell_type": "code",
   "execution_count": 138,
   "metadata": {
    "scrolled": false
   },
   "outputs": [
    {
     "name": "stdout",
     "output_type": "stream",
     "text": [
      "[1, 1, 2, 4, 4, 2]  # of wins PA had over PB\n",
      "[1, 1, 1, 1, 1, 1]  PA's ID\n",
      "[2, 4, 6, 7, 8, 9]  PB's ID\n"
     ]
    },
    {
     "data": {
      "text/plain": [
       "3321"
      ]
     },
     "execution_count": 138,
     "metadata": {},
     "output_type": "execute_result"
    }
   ],
   "source": [
    "print(win[:6], \" # of wins PA had over PB\") \n",
    "print(PA[:6], \" PA's ID\") \n",
    "print(PB[:6], \" PB's ID\")\n",
    "len(win)            # total number of games"
   ]
  },
  {
   "cell_type": "markdown",
   "metadata": {},
   "source": [
    "##### Stan Model"
   ]
  },
  {
   "cell_type": "code",
   "execution_count": 139,
   "metadata": {},
   "outputs": [],
   "source": [
    "skill_model = \"\"\"\n",
    "data {\n",
    "  int<lower=1> N;            \n",
    "  int<lower=1> E;           \n",
    "  real<lower=0> scale;       \n",
    "  int<lower=1,upper=5> win[E];      \n",
    "  int PA[E];                  \n",
    "  int PB[E];                  \n",
    "}\n",
    "parameters {\n",
    "  vector [N] skill;       \n",
    "}\n",
    "\n",
    "model{\n",
    "  for (i in 1:N){ skill[i]~normal(0,5); }\n",
    "  for (i in 1:E){\n",
    "    win[i] ~ bernoulli_logit(5, (scale)*(skill[PA[i]]-skill[PB[i]]) );\n",
    "  }   // win probability is a binomial_logit function of skill difference (0-5)\n",
    "}\n",
    "\"\"\""
   ]
  },
  {
   "cell_type": "markdown",
   "metadata": {},
   "source": [
    "##### compile the model"
   ]
  },
  {
   "cell_type": "code",
   "execution_count": 140,
   "metadata": {},
   "outputs": [
    {
     "ename": "ValueError",
     "evalue": "Failed to parse Stan model 'anon_model_c6545b8bafeb02a55161f2b887f1299a'. Error message:\nSYNTAX ERROR, MESSAGE(S) FROM PARSER:\nNo matches for: \n\n  int ~ bernoulli_logit(int, real)\n\nAvailable argument signatures for bernoulli_logit:\n\n  int ~ bernoulli_logit(real)\n  int ~ bernoulli_logit(real[ ])\n  int ~ bernoulli_logit(vector)\n  int ~ bernoulli_logit(row_vector)\n  int[ ] ~ bernoulli_logit(real)\n  int[ ] ~ bernoulli_logit(real[ ])\n  int[ ] ~ bernoulli_logit(vector)\n  int[ ] ~ bernoulli_logit(row_vector)\n\nReal return type required for probability function.\n error in 'unknown file name' at line 17, column 70\n  -------------------------------------------------\n    15:   for (i in 1:N){ skill[i]~normal(0,5); }\n    16:   for (i in 1:E){\n    17:     win[i] ~ bernoulli_logit(5, (scale)*(skill[PA[i]]-skill[PB[i]]) );\n                                                                             ^\n    18:   }   // win probability is a binomial_logit function of skill difference (0-5)\n  -------------------------------------------------\n\n",
     "output_type": "error",
     "traceback": [
      "\u001b[1;31m---------------------------------------------------------------------------\u001b[0m",
      "\u001b[1;31mFileNotFoundError\u001b[0m                         Traceback (most recent call last)",
      "\u001b[1;32m<ipython-input-140-1e544ee172c4>\u001b[0m in \u001b[0;36m<module>\u001b[1;34m\u001b[0m\n\u001b[0;32m      2\u001b[0m \u001b[1;32mtry\u001b[0m\u001b[1;33m:\u001b[0m     \u001b[1;31m# load it if already compiled\u001b[0m\u001b[1;33m\u001b[0m\u001b[1;33m\u001b[0m\u001b[0m\n\u001b[1;32m----> 3\u001b[1;33m     \u001b[0msm\u001b[0m \u001b[1;33m=\u001b[0m \u001b[0mpickle\u001b[0m\u001b[1;33m.\u001b[0m\u001b[0mload\u001b[0m\u001b[1;33m(\u001b[0m\u001b[0mopen\u001b[0m\u001b[1;33m(\u001b[0m\u001b[1;34m'skill_model.pkl'\u001b[0m\u001b[1;33m,\u001b[0m \u001b[1;34m'rb'\u001b[0m\u001b[1;33m)\u001b[0m\u001b[1;33m)\u001b[0m\u001b[1;33m\u001b[0m\u001b[1;33m\u001b[0m\u001b[0m\n\u001b[0m\u001b[0;32m      4\u001b[0m \u001b[1;32mexcept\u001b[0m\u001b[1;33m:\u001b[0m  \u001b[1;31m# ow, compile and save compiled model\u001b[0m\u001b[1;33m\u001b[0m\u001b[1;33m\u001b[0m\u001b[0m\n",
      "\u001b[1;31mFileNotFoundError\u001b[0m: [Errno 2] No such file or directory: 'skill_model.pkl'",
      "\nDuring handling of the above exception, another exception occurred:\n",
      "\u001b[1;31mValueError\u001b[0m                                Traceback (most recent call last)",
      "\u001b[1;32m<ipython-input-140-1e544ee172c4>\u001b[0m in \u001b[0;36m<module>\u001b[1;34m\u001b[0m\n\u001b[0;32m      3\u001b[0m     \u001b[0msm\u001b[0m \u001b[1;33m=\u001b[0m \u001b[0mpickle\u001b[0m\u001b[1;33m.\u001b[0m\u001b[0mload\u001b[0m\u001b[1;33m(\u001b[0m\u001b[0mopen\u001b[0m\u001b[1;33m(\u001b[0m\u001b[1;34m'skill_model.pkl'\u001b[0m\u001b[1;33m,\u001b[0m \u001b[1;34m'rb'\u001b[0m\u001b[1;33m)\u001b[0m\u001b[1;33m)\u001b[0m\u001b[1;33m\u001b[0m\u001b[1;33m\u001b[0m\u001b[0m\n\u001b[0;32m      4\u001b[0m \u001b[1;32mexcept\u001b[0m\u001b[1;33m:\u001b[0m  \u001b[1;31m# ow, compile and save compiled model\u001b[0m\u001b[1;33m\u001b[0m\u001b[1;33m\u001b[0m\u001b[0m\n\u001b[1;32m----> 5\u001b[1;33m     \u001b[0msm\u001b[0m \u001b[1;33m=\u001b[0m \u001b[0mpystan\u001b[0m\u001b[1;33m.\u001b[0m\u001b[0mStanModel\u001b[0m\u001b[1;33m(\u001b[0m\u001b[0mmodel_code\u001b[0m \u001b[1;33m=\u001b[0m \u001b[0mskill_model\u001b[0m\u001b[1;33m)\u001b[0m\u001b[1;33m\u001b[0m\u001b[1;33m\u001b[0m\u001b[0m\n\u001b[0m\u001b[0;32m      6\u001b[0m     \u001b[1;32mwith\u001b[0m \u001b[0mopen\u001b[0m\u001b[1;33m(\u001b[0m\u001b[1;34m'skill_model.pkl'\u001b[0m\u001b[1;33m,\u001b[0m \u001b[1;34m'wb'\u001b[0m\u001b[1;33m)\u001b[0m \u001b[1;32mas\u001b[0m \u001b[0mf\u001b[0m\u001b[1;33m:\u001b[0m \u001b[0mpickle\u001b[0m\u001b[1;33m.\u001b[0m\u001b[0mdump\u001b[0m\u001b[1;33m(\u001b[0m\u001b[0msm\u001b[0m\u001b[1;33m,\u001b[0m \u001b[0mf\u001b[0m\u001b[1;33m)\u001b[0m\u001b[1;33m\u001b[0m\u001b[1;33m\u001b[0m\u001b[0m\n",
      "\u001b[1;32m~\\Anaconda3\\Lib\\site-packages\\pystan\\model.py\u001b[0m in \u001b[0;36m__init__\u001b[1;34m(self, file, charset, model_name, model_code, stanc_ret, include_paths, boost_lib, eigen_lib, verbose, obfuscate_model_name, extra_compile_args, allow_undefined, include_dirs, includes)\u001b[0m\n\u001b[0;32m    235\u001b[0m                                          \u001b[0minclude_paths\u001b[0m\u001b[1;33m=\u001b[0m\u001b[0minclude_paths\u001b[0m\u001b[1;33m,\u001b[0m\u001b[1;33m\u001b[0m\u001b[1;33m\u001b[0m\u001b[0m\n\u001b[0;32m    236\u001b[0m                                          \u001b[0mobfuscate_model_name\u001b[0m\u001b[1;33m=\u001b[0m\u001b[0mobfuscate_model_name\u001b[0m\u001b[1;33m,\u001b[0m\u001b[1;33m\u001b[0m\u001b[1;33m\u001b[0m\u001b[0m\n\u001b[1;32m--> 237\u001b[1;33m                                          allow_undefined=allow_undefined)\n\u001b[0m\u001b[0;32m    238\u001b[0m \u001b[1;33m\u001b[0m\u001b[0m\n\u001b[0;32m    239\u001b[0m         \u001b[1;32mif\u001b[0m \u001b[1;32mnot\u001b[0m \u001b[0misinstance\u001b[0m\u001b[1;33m(\u001b[0m\u001b[0mstanc_ret\u001b[0m\u001b[1;33m,\u001b[0m \u001b[0mdict\u001b[0m\u001b[1;33m)\u001b[0m\u001b[1;33m:\u001b[0m\u001b[1;33m\u001b[0m\u001b[1;33m\u001b[0m\u001b[0m\n",
      "\u001b[1;32m~\\Anaconda3\\Lib\\site-packages\\pystan\\api.py\u001b[0m in \u001b[0;36mstanc\u001b[1;34m(file, charset, model_code, model_name, include_paths, verbose, obfuscate_model_name, allow_undefined)\u001b[0m\n\u001b[0;32m    167\u001b[0m             \u001b[0mmsg\u001b[0m \u001b[1;33m=\u001b[0m \u001b[0mmsg\u001b[0m\u001b[1;33m.\u001b[0m\u001b[0mencode\u001b[0m\u001b[1;33m(\u001b[0m\u001b[1;34m'ascii'\u001b[0m\u001b[1;33m,\u001b[0m \u001b[1;34m'replace'\u001b[0m\u001b[1;33m)\u001b[0m\u001b[1;33m\u001b[0m\u001b[1;33m\u001b[0m\u001b[0m\n\u001b[0;32m    168\u001b[0m         \u001b[0merror_msg\u001b[0m \u001b[1;33m=\u001b[0m \u001b[1;34m\"Failed to parse Stan model '{}'. Error message:\\n{}\"\u001b[0m\u001b[1;33m.\u001b[0m\u001b[0mformat\u001b[0m\u001b[1;33m(\u001b[0m\u001b[0mmodel_name\u001b[0m\u001b[1;33m,\u001b[0m \u001b[0mmsg\u001b[0m\u001b[1;33m)\u001b[0m\u001b[1;33m\u001b[0m\u001b[1;33m\u001b[0m\u001b[0m\n\u001b[1;32m--> 169\u001b[1;33m         \u001b[1;32mraise\u001b[0m \u001b[0mValueError\u001b[0m\u001b[1;33m(\u001b[0m\u001b[0merror_msg\u001b[0m\u001b[1;33m)\u001b[0m\u001b[1;33m\u001b[0m\u001b[1;33m\u001b[0m\u001b[0m\n\u001b[0m\u001b[0;32m    170\u001b[0m     \u001b[1;32melif\u001b[0m \u001b[0mresult\u001b[0m\u001b[1;33m[\u001b[0m\u001b[1;34m'status'\u001b[0m\u001b[1;33m]\u001b[0m \u001b[1;33m==\u001b[0m \u001b[1;36m0\u001b[0m\u001b[1;33m:\u001b[0m  \u001b[1;31m# SUCCESS_RC is 0\u001b[0m\u001b[1;33m\u001b[0m\u001b[1;33m\u001b[0m\u001b[0m\n\u001b[0;32m    171\u001b[0m         \u001b[0mlogger\u001b[0m\u001b[1;33m.\u001b[0m\u001b[0mdebug\u001b[0m\u001b[1;33m(\u001b[0m\u001b[1;34m\"Successfully parsed Stan model '{}'.\"\u001b[0m\u001b[1;33m.\u001b[0m\u001b[0mformat\u001b[0m\u001b[1;33m(\u001b[0m\u001b[0mmodel_name\u001b[0m\u001b[1;33m)\u001b[0m\u001b[1;33m)\u001b[0m\u001b[1;33m\u001b[0m\u001b[1;33m\u001b[0m\u001b[0m\n",
      "\u001b[1;31mValueError\u001b[0m: Failed to parse Stan model 'anon_model_c6545b8bafeb02a55161f2b887f1299a'. Error message:\nSYNTAX ERROR, MESSAGE(S) FROM PARSER:\nNo matches for: \n\n  int ~ bernoulli_logit(int, real)\n\nAvailable argument signatures for bernoulli_logit:\n\n  int ~ bernoulli_logit(real)\n  int ~ bernoulli_logit(real[ ])\n  int ~ bernoulli_logit(vector)\n  int ~ bernoulli_logit(row_vector)\n  int[ ] ~ bernoulli_logit(real)\n  int[ ] ~ bernoulli_logit(real[ ])\n  int[ ] ~ bernoulli_logit(vector)\n  int[ ] ~ bernoulli_logit(row_vector)\n\nReal return type required for probability function.\n error in 'unknown file name' at line 17, column 70\n  -------------------------------------------------\n    15:   for (i in 1:N){ skill[i]~normal(0,5); }\n    16:   for (i in 1:E){\n    17:     win[i] ~ bernoulli_logit(5, (scale)*(skill[PA[i]]-skill[PB[i]]) );\n                                                                             ^\n    18:   }   // win probability is a binomial_logit function of skill difference (0-5)\n  -------------------------------------------------\n\n"
     ]
    }
   ],
   "source": [
    "import pickle\n",
    "try:     # load it if already compiled\n",
    "    sm = pickle.load(open('skill_model.pkl', 'rb'))\n",
    "except:  # ow, compile and save compiled model\n",
    "    sm = pystan.StanModel(model_code = skill_model)\n",
    "    with open('skill_model.pkl', 'wb') as f: pickle.dump(sm, f)"
   ]
  },
  {
   "cell_type": "code",
   "execution_count": null,
   "metadata": {},
   "outputs": [],
   "source": [
    "skill_data = {\n",
    "    'N': 999,\n",
    "    'E': 3321,\n",
    "    'scale': 0.1,\n",
    "    'win': win,\n",
    "    'PA': PA,\n",
    "    'PB': PB\n",
    "}"
   ]
  },
  {
   "cell_type": "markdown",
   "metadata": {},
   "source": [
    "Now, we can perform MCMC on the model, and extract the samples:"
   ]
  },
  {
   "cell_type": "code",
   "execution_count": null,
   "metadata": {},
   "outputs": [],
   "source": [
    "fit = sm.sampling(data=skill_data, iter=1000, chains=2)"
   ]
  },
  {
   "cell_type": "code",
   "execution_count": null,
   "metadata": {},
   "outputs": [],
   "source": [
    "samples = fit.extract()"
   ]
  },
  {
   "cell_type": "markdown",
   "metadata": {},
   "source": [
    "If we just want the mean estimate for each player's skill level, just take the empirical average over the samples:"
   ]
  },
  {
   "cell_type": "code",
   "execution_count": null,
   "metadata": {},
   "outputs": [],
   "source": [
    "player_skills = samples['skill'].mean(0)\n",
    "print(player_skills)\n"
   ]
  },
  {
   "cell_type": "markdown",
   "metadata": {},
   "source": [
    "Finding the name of the player with the highest skill according to our model"
   ]
  },
  {
   "cell_type": "code",
   "execution_count": null,
   "metadata": {},
   "outputs": [],
   "source": [
    "ind = np.unravel_index(np.argmax(player_skills, axis=None), player_skills.shape)\n",
    "ind2 = np.unravel_index(np.argmin(player_skills, axis=None), player_skills.shape)\n",
    "\n",
    "print(\"the highest skill level is: \", player_skills[ind[0]], \" and his name is: \", playername[ind[0]])\n",
    "print(\"the lowest skill level is: \", player_skills[ind2[0]], \" and his name is: \", playername[ind2[0]])"
   ]
  },
  {
   "cell_type": "markdown",
   "metadata": {},
   "source": [
    "The above result is surprising because Zest is a good player. According to this link https://www.lineups.com/esports/top-10-starcraft-ii-players-of-all-time/ these are the top ten players of all time. So they should have high skill levels."
   ]
  },
  {
   "cell_type": "code",
   "execution_count": null,
   "metadata": {},
   "outputs": [],
   "source": [
    "top10 = np.array([\n",
    "    playerid[\"Mvp\"],\n",
    "    playerid[\"Life\"],\n",
    "    playerid[\"TaeJa\"],\n",
    "    playerid[\"MC\"],\n",
    "    playerid[\"Polt\"],\n",
    "    playerid[\"INnoVation\"],\n",
    "    playerid[\"Zest\"],\n",
    "    playerid[\"NesTea\"],\n",
    "    playerid[\"MMA\"],\n",
    "    playerid[\"Rain\"]\n",
    "])\n",
    "\n",
    "for id in top10:\n",
    "    print(playername[id], \"'s skill level is: \", player_skills[id])\n"
   ]
  },
  {
   "cell_type": "markdown",
   "metadata": {},
   "source": [
    "So, we're actually getting the opposite of what we were expecting. I think this has to do with the fact that I changed the sampling distribution from bernoulli_logit to binomial_logit. But we can just say that lower is better and still call this a good model."
   ]
  },
  {
   "cell_type": "markdown",
   "metadata": {},
   "source": [
    "If we want to predict which player will win, we might use a direct estimator of that quantity based on the sample values:"
   ]
  },
  {
   "cell_type": "code",
   "execution_count": null,
   "metadata": {},
   "outputs": [],
   "source": [
    "# Player 0 vs Player 1 prediction:\n",
    "def logit(z): return 1./(1.+np.exp(-z))\n",
    "\n",
    "# Use our model's win probability function (logistic of scaled difference)\n",
    "#  using the predicted skill difference for each sample:\n",
    "prob = logit( skill_data['scale']*(samples['skill'][:,ind[0]]-samples['skill'][:,ind2[0]]) ).mean()\n",
    "\n",
    "print(playername[ind[0]], \"has a \", prob * 100, \"% chance of winning against \", playername[ind2[0]])"
   ]
  },
  {
   "cell_type": "markdown",
   "metadata": {},
   "source": [
    "Based on online rankings, innovation should be the winner, not Sen, thus inversing them is a must."
   ]
  },
  {
   "cell_type": "markdown",
   "metadata": {},
   "source": [
    "##### inversing the skill_levels"
   ]
  },
  {
   "cell_type": "code",
   "execution_count": null,
   "metadata": {},
   "outputs": [],
   "source": [
    "player_skills2 = np.array([abs(5-x) for x in player_skills])"
   ]
  },
  {
   "cell_type": "code",
   "execution_count": null,
   "metadata": {
    "scrolled": true
   },
   "outputs": [],
   "source": [
    "ind = np.unravel_index(np.argmax(player_skills2, axis=None), player_skills2.shape)\n",
    "ind2 = np.unravel_index(np.argmin(player_skills2, axis=None), player_skills2.shape)\n",
    "\n",
    "print(\"the highest skill level is: \", player_skills2[ind[0]], \" and his name is: \", playername[ind[0]])\n",
    "print(\"the lowest skill level is: \", player_skills2[ind2[0]], \" and his name is: \", playername[ind2[0]])"
   ]
  },
  {
   "cell_type": "code",
   "execution_count": null,
   "metadata": {},
   "outputs": [],
   "source": [
    "top10 = np.array([\n",
    "    playerid[\"Mvp\"],\n",
    "    playerid[\"Life\"],\n",
    "    playerid[\"TaeJa\"],\n",
    "    playerid[\"MC\"],\n",
    "    playerid[\"Polt\"],\n",
    "    playerid[\"INnoVation\"],\n",
    "    playerid[\"Zest\"],\n",
    "    playerid[\"NesTea\"],\n",
    "    playerid[\"MMA\"],\n",
    "    playerid[\"Rain\"]\n",
    "])\n",
    "\n",
    "for id in top10:\n",
    "    print(playername[id], \"'s skill level is: \", player_skills2[id])\n"
   ]
  },
  {
   "cell_type": "code",
   "execution_count": null,
   "metadata": {},
   "outputs": [],
   "source": [
    "# Highest skilled player vs Lowest skilled player:\n",
    "def logit(z): return 1./(1.+np.exp(-z))\n",
    "\n",
    "# Use our model's win probability function (logistic of scaled difference)\n",
    "#  using the predicted skill difference for each sample:\n",
    "prob = logit( skill_data['scale']*(samples['skill'][:,ind[0]]-samples['skill'][:,ind2[0]]) ).mean()\n",
    "\n",
    "print(playername[ind[0]], \"has a \", (1-prob) * 100, \"% chance of winning against \", playername[ind2[0]])"
   ]
  },
  {
   "cell_type": "markdown",
   "metadata": {},
   "source": [
    "This looks more correct. Not how, despite innovation having an incredibly high skill number, still has a relatively low chance of winning against Sen. This is due to how we scaled our data, the skill difference being scaled to only .1"
   ]
  },
  {
   "cell_type": "markdown",
   "metadata": {},
   "source": [
    "### Below we start using validation"
   ]
  },
  {
   "cell_type": "code",
   "execution_count": null,
   "metadata": {},
   "outputs": [],
   "source": [
    "import csv\n",
    "with open(\"valid.csv\", newline='') as i:\n",
    "    reader = csv.reader(i)\n",
    "    valid_data= list(reader)"
   ]
  },
  {
   "cell_type": "code",
   "execution_count": null,
   "metadata": {},
   "outputs": [],
   "source": [
    "#0=date\n",
    "#1=p1name\n",
    "#2=p1win?\n",
    "#3=idk\n",
    "#4=p2name\n",
    "#5=p2win?\n",
    "number_correct_skill=0\n",
    "number_correct_prob=0\n",
    "winner=0\n",
    "for row in valid_data:\n",
    "#     ind = np.unravel_index(np.argmax(player_skills, axis=None), player_skills.shape)\n",
    "#     ind2 = np.unravel_index(np.argmin(player_skills, axis=None), player_skills.shape)\n",
    "\n",
    "    p1name=row[1]\n",
    "    p1win=row[2]\n",
    "    p2name=row[4]\n",
    "    prob = logit( skill_data['scale']*(samples['skill'][:,playerid[p1name]]-samples['skill'][:,playerid[p2name]])).mean()\n",
    "    \n",
    "    \n",
    "    #using prob. as the factor in correctness\n",
    "    if ((1-prob) * 100) > 50:\n",
    "        winner=1\n",
    "    else:\n",
    "        winner=2\n",
    "    #print(1-prob)\n",
    "    \n",
    "    #check to see if graphical model is correct\n",
    "    if p1win=='[winner]' and winner==1:\n",
    "        number_correct_prob+=1\n",
    "    elif p1win=='[loser]' and winner==2:\n",
    "        number_correct_prob+=1\n",
    "    \n",
    "    \n",
    "    #using calculated skill as the factor in correctness\n",
    "    if player_skills2[playerid[p1name]] > player_skills2[playerid[p2name]]:\n",
    "        winner=1\n",
    "    else:\n",
    "        winner=2\n",
    "    \n",
    "    if p1win=='[winner]' and winner==1:\n",
    "        number_correct_skill+=1\n",
    "    elif p1win=='[loser]' and winner==2:\n",
    "        number_correct_skill+=1      "
   ]
  },
  {
   "cell_type": "code",
   "execution_count": null,
   "metadata": {},
   "outputs": [],
   "source": [
    "prct_correct=(number_correct_skill/len(valid_data)) *100\n",
    "print(\"For this graphical model, using only the calculate skill, it gets\",prct_correct,\"% correct\")"
   ]
  },
  {
   "cell_type": "code",
   "execution_count": null,
   "metadata": {},
   "outputs": [],
   "source": [
    "prct_correct=(number_correct_prob/len(valid_data)) *100\n",
    "print(\"For this graphical model, using only the calculated probability, it gets\",prct_correct,\"% correct\")"
   ]
  }
 ],
 "metadata": {
  "kernelspec": {
   "display_name": "Python 3",
   "language": "python",
   "name": "python3"
  },
  "language_info": {
   "codemirror_mode": {
    "name": "ipython",
    "version": 3
   },
   "file_extension": ".py",
   "mimetype": "text/x-python",
   "name": "python",
   "nbconvert_exporter": "python",
   "pygments_lexer": "ipython3",
   "version": "3.7.4"
  }
 },
 "nbformat": 4,
 "nbformat_minor": 2
}
