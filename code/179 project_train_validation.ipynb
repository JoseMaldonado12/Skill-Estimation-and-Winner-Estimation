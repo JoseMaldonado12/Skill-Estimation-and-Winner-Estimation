{
 "cells": [
  {
   "cell_type": "code",
   "execution_count": 389,
   "metadata": {},
   "outputs": [],
   "source": [
    "import numpy as np\n",
    "import csv\n",
    "\n",
    "import sys\n",
    "sys.path.append('../../')\n",
    "import pyGM as gm;\n",
    "import numpy as np\n",
    "import matplotlib.pyplot as plt\n",
    "%matplotlib inline  \n",
    "with open(\"../league of legends/cut_data/lol_cut.csv\", newline='') as i:\n",
    "    reader = csv.reader(i)\n",
    "    lol_data= list(reader)"
   ]
  },
  {
   "cell_type": "code",
   "execution_count": 390,
   "metadata": {
    "scrolled": true
   },
   "outputs": [
    {
     "name": "stdout",
     "output_type": "stream",
     "text": [
      "gameId\n",
      "creationTime\n",
      "gameDuration\n",
      "seasonId\n",
      "winner\n",
      "firstBlood\n",
      "firstTower\n",
      "firstInhibitor\n",
      "firstBaron\n",
      "firstDragon\n",
      "firstRiftHerald\n",
      "3326086514\n",
      "1504279457970\n",
      "1949\n",
      "9\n",
      "1\n",
      "2\n",
      "1\n",
      "1\n",
      "1\n",
      "1\n",
      "2\n",
      "3229566029\n",
      "1497848803862\n",
      "1851\n",
      "9\n",
      "1\n",
      "1\n",
      "1\n",
      "1\n",
      "0\n",
      "1\n",
      "1\n",
      "3327363504\n",
      "1504360103310\n",
      "1493\n",
      "9\n",
      "1\n",
      "2\n",
      "1\n",
      "1\n",
      "1\n",
      "2\n",
      "0\n",
      "3326856598\n",
      "1504348503996\n",
      "1758\n",
      "9\n",
      "1\n",
      "1\n",
      "1\n",
      "1\n",
      "1\n",
      "1\n",
      "0\n"
     ]
    }
   ],
   "source": [
    "for i in range(5):\n",
    "    for j in lol_data[i]:\n",
    "        print(j)"
   ]
  },
  {
   "cell_type": "markdown",
   "metadata": {},
   "source": [
    "# turn the data into something managable by pygm"
   ]
  },
  {
   "cell_type": "code",
   "execution_count": 391,
   "metadata": {},
   "outputs": [
    {
     "name": "stdout",
     "output_type": "stream",
     "text": [
      "[[0.5        0.450166   0.40131234 0.35434369 0.31002552 0.26894142\n",
      "  0.23147522 0.19781611 0.16798161 0.14185106]\n",
      " [0.549834   0.5        0.450166   0.40131234 0.35434369 0.31002552\n",
      "  0.26894142 0.23147522 0.19781611 0.16798161]\n",
      " [0.59868766 0.549834   0.5        0.450166   0.40131234 0.35434369\n",
      "  0.31002552 0.26894142 0.23147522 0.19781611]\n",
      " [0.64565631 0.59868766 0.549834   0.5        0.450166   0.40131234\n",
      "  0.35434369 0.31002552 0.26894142 0.23147522]\n",
      " [0.68997448 0.64565631 0.59868766 0.549834   0.5        0.450166\n",
      "  0.40131234 0.35434369 0.31002552 0.26894142]\n",
      " [0.73105858 0.68997448 0.64565631 0.59868766 0.549834   0.5\n",
      "  0.450166   0.40131234 0.35434369 0.31002552]\n",
      " [0.76852478 0.73105858 0.68997448 0.64565631 0.59868766 0.549834\n",
      "  0.5        0.450166   0.40131234 0.35434369]\n",
      " [0.80218389 0.76852478 0.73105858 0.68997448 0.64565631 0.59868766\n",
      "  0.549834   0.5        0.450166   0.40131234]\n",
      " [0.83201839 0.80218389 0.76852478 0.73105858 0.68997448 0.64565631\n",
      "  0.59868766 0.549834   0.5        0.450166  ]\n",
      " [0.85814894 0.83201839 0.80218389 0.76852478 0.73105858 0.68997448\n",
      "  0.64565631 0.59868766 0.549834   0.5       ]]\n"
     ]
    }
   ],
   "source": [
    "#using 6 combinations, one for each first objective\n",
    "\n",
    "\n",
    "first_combinations=7\n",
    "nlevels=10\n",
    "scale=.2\n",
    "\n",
    "X = [None]*first_combinations\n",
    "for i in range(first_combinations):\n",
    "    X[i] = gm.Var(i, nlevels)  \n",
    "\n",
    "del lol_data[0] #delete the header to avoid fuck ups\n",
    "Pwin = np.zeros( (nlevels,nlevels) )\n",
    "#pr(win | first objectives)\n",
    "for i in range(nlevels):\n",
    "    for j in range(nlevels):\n",
    "        diff = i-j                   # find the advantage of Pi over Pj, then \n",
    "        Pwin[i,j] = (1./(1+np.exp(-scale*diff)))  # Pwin = logistic of advantage\n",
    "print(Pwin)\n",
    "\n",
    "\n",
    "factors = [ gm.Factor([X[i]],1./nlevels) for i in range(first_combinations) ] #uniform belief over team skill\n",
    "    "
   ]
  },
  {
   "cell_type": "code",
   "execution_count": 392,
   "metadata": {
    "scrolled": true
   },
   "outputs": [
    {
     "name": "stdout",
     "output_type": "stream",
     "text": [
      "7\n"
     ]
    }
   ],
   "source": [
    "print(len(X))"
   ]
  },
  {
   "cell_type": "code",
   "execution_count": 393,
   "metadata": {
    "scrolled": true
   },
   "outputs": [],
   "source": [
    "#turn the csv into str because oh my god csv's are all strings thats so stupid\n",
    "for i in range(len(lol_data)):\n",
    "    for j in range(len(lol_data[i])):\n",
    "        lol_data[i][j]=int(lol_data[i][j])\n"
   ]
  },
  {
   "cell_type": "code",
   "execution_count": 394,
   "metadata": {},
   "outputs": [
    {
     "name": "stdout",
     "output_type": "stream",
     "text": [
      "7\n",
      "7\n"
     ]
    }
   ],
   "source": [
    "#adding game info\n",
    "print(len(X))\n",
    "print(len(factors))\n",
    "for g in lol_data:\n",
    "    blood,turret,inhib,baron,dragon,harold,win = g[5],g[6],g[7],g[8],g[9],g[10],g[4]\n",
    "    temp=[blood,turret,inhib,baron,dragon,harold]\n",
    "    #check who got the most amount of firsts\n",
    "    t1=0\n",
    "    t2=0\n",
    "    for i in temp:\n",
    "        if i ==1:\n",
    "            t1+=1\n",
    "        elif i==2:\n",
    "            t2+=1\n",
    "    if t1 == t2:\n",
    "        continue\n",
    "    #if P1>P2: P1,P2,win=P2,P1,-win  # (need to make player IDs sorted...)\n",
    "    \n",
    "    #for every combination of values, there are two teams and one won.\n",
    "    #each X represents wether or not they got a first objective.\n",
    "    #it will always be in the order thats in the csv (fb=5,ft=6,fi=7,fbaron=8,fd=9,fh=10)\n",
    "    #factors.append(gm.Factor([X[blood],X[turret]], Pwin if win>0 else 1-Pwin) )\n",
    "        \n",
    "    factors.append(gm.Factor([X[t1],X[t2]], Pwin if win==1 else 1-Pwin))"
   ]
  },
  {
   "cell_type": "code",
   "execution_count": 395,
   "metadata": {},
   "outputs": [],
   "source": [
    "# for i in factors:\n",
    "\n",
    "#     for j in i.table:\n",
    "#         if type(j) == np.float64:\n",
    "#             continue\n",
    "#         elif 0 in j:\n",
    "#             print(table)"
   ]
  },
  {
   "cell_type": "code",
   "execution_count": 396,
   "metadata": {},
   "outputs": [
    {
     "name": "stdout",
     "output_type": "stream",
     "text": [
      "its working\n"
     ]
    }
   ],
   "source": [
    "model = gm.GraphModel(factors)\n",
    "print(\"its working\")\n",
    "#model.makeMinimal()  # merge any duplicate factors (e.g., repeated games)"
   ]
  },
  {
   "cell_type": "code",
   "execution_count": 397,
   "metadata": {},
   "outputs": [
    {
     "name": "stdout",
     "output_type": "stream",
     "text": [
      "Iter 0: -35945.75858508854\n",
      "Iter 1: -32344.25515811072\n",
      "Iter 2: -32316.29118536767\n",
      "Iter 3: -32316.29118536767\n"
     ]
    }
   ],
   "source": [
    "if model.nvar < 0:       # for very small models, we can do brute force inference:\n",
    "    jt = model.joint()\n",
    "    jt /= jt.sum()       # normalize the distribution and marginalize the table\n",
    "    bel = [jt.marginal([i]) for i in range(nplayers)] \n",
    "else:                    # otherwise we need to use some approximate inference:\n",
    "    from pyGM.messagepass import LBP, NMF\n",
    "    #lnZ,bel = LBP(model, maxIter=10, verbose=True)   # loopy BP\n",
    "    lnZ,bel = NMF(model, maxIter=3, verbose=True)  # Mean field"
   ]
  },
  {
   "cell_type": "code",
   "execution_count": 403,
   "metadata": {},
   "outputs": [
    {
     "name": "stdout",
     "output_type": "stream",
     "text": [
      "[0.00000000e+000 0.00000000e+000 1.82319904e-310 7.79235611e-141\n",
      " 4.13979949e-037 1.00000000e+000 8.16880266e-032 3.49196486e-129\n",
      " 2.04087814e-290 0.00000000e+000]\n",
      "[0.00000000e+000 0.00000000e+000 3.18232827e-219 6.14947925e-070\n",
      " 1.00000000e+000 7.16539667e-013 4.65194809e-106 2.08923878e-278\n",
      " 0.00000000e+000 0.00000000e+000]\n",
      "[0.00000000e+000 1.24515787e-249 2.14470815e-106 8.00396001e-023\n",
      " 1.00000000e+000 9.74015027e-041 2.90666508e-142 1.58473476e-303\n",
      " 0.00000000e+000 0.00000000e+000]\n",
      "[0.00000000e+000 6.77970260e-254 1.04442183e-114 9.82232349e-030\n",
      " 1.00000000e+000 2.26006744e-028 3.03837168e-112 7.87988032e-251\n",
      " 0.00000000e+000 0.00000000e+000]\n",
      "[0.00000000e+000 7.82634545e-311 1.18585444e-136 1.76349209e-032\n",
      " 1.00000000e+000 1.93494384e-042 3.16871749e-157 0.00000000e+000\n",
      " 0.00000000e+000 0.00000000e+000]\n",
      "[0.00000000e+000 9.81189485e-305 4.49470448e-160 4.02725436e-060\n",
      " 1.09641092e-006 9.99998904e-001 2.82749234e-042 1.93651086e-130\n",
      " 1.81233462e-263 0.00000000e+000]\n",
      "[3.21911091e-178 8.07455779e-116 4.24986305e-066 6.22197496e-030\n",
      " 5.33379683e-008 9.99999917e-001 2.92724976e-008 1.87402284e-030\n",
      " 7.02497637e-067 7.32507357e-117]\n",
      "Estimated probability P0 beats P6 next time:\n",
      "0.5000000011992786\n"
     ]
    }
   ],
   "source": [
    "for i in bel:\n",
    "    print(i.table)\n",
    "i,j = 1,3\n",
    "\n",
    "print(\"Estimated probability P{} beats P{} next time:\".format(i,j))\n",
    "# Expected value (over skill of P0, P1) of Pr[win | P0-P1]\n",
    "\n",
    "\n",
    "if i<j:\n",
    "    print( (bel[i]*bel[j]*gm.Factor([X[i],X[j]],Pwin)).table.sum() )\n",
    "else:\n",
    "    print( (bel[i]*bel[j]*gm.Factor([X[i],X[j]],1-Pwin)).table.sum() )"
   ]
  },
  {
   "cell_type": "code",
   "execution_count": null,
   "metadata": {},
   "outputs": [],
   "source": []
  }
 ],
 "metadata": {
  "kernelspec": {
   "display_name": "Python 3",
   "language": "python",
   "name": "python3"
  },
  "language_info": {
   "codemirror_mode": {
    "name": "ipython",
    "version": 3
   },
   "file_extension": ".py",
   "mimetype": "text/x-python",
   "name": "python",
   "nbconvert_exporter": "python",
   "pygments_lexer": "ipython3",
   "version": "3.7.4"
  },
  "widgets": {
   "application/vnd.jupyter.widget-state+json": {
    "state": {},
    "version_major": 2,
    "version_minor": 0
   }
  }
 },
 "nbformat": 4,
 "nbformat_minor": 2
}
