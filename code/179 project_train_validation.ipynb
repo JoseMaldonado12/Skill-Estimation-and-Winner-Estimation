{
 "cells": [
  {
   "cell_type": "code",
   "execution_count": 313,
   "metadata": {},
   "outputs": [],
   "source": [
    "import numpy as np\n",
    "import csv\n",
    "\n",
    "import sys\n",
    "sys.path.append('../../')\n",
    "import pyGM as gm;\n",
    "import numpy as np\n",
    "import matplotlib.pyplot as plt\n",
    "%matplotlib inline  \n",
    "with open(\"../league of legends/cut_data/lol_cut.csv\", newline='') as i:\n",
    "    reader = csv.reader(i)\n",
    "    lol_data= list(reader)"
   ]
  },
  {
   "cell_type": "code",
   "execution_count": 314,
   "metadata": {
    "scrolled": true
   },
   "outputs": [
    {
     "name": "stdout",
     "output_type": "stream",
     "text": [
      "gameId\n",
      "creationTime\n",
      "gameDuration\n",
      "seasonId\n",
      "winner\n",
      "firstBlood\n",
      "firstTower\n",
      "firstInhibitor\n",
      "firstBaron\n",
      "firstDragon\n",
      "firstRiftHerald\n",
      "3326086514\n",
      "1504279457970\n",
      "1949\n",
      "9\n",
      "1\n",
      "2\n",
      "1\n",
      "1\n",
      "1\n",
      "1\n",
      "2\n",
      "3229566029\n",
      "1497848803862\n",
      "1851\n",
      "9\n",
      "1\n",
      "1\n",
      "1\n",
      "1\n",
      "0\n",
      "1\n",
      "1\n",
      "3327363504\n",
      "1504360103310\n",
      "1493\n",
      "9\n",
      "1\n",
      "2\n",
      "1\n",
      "1\n",
      "1\n",
      "2\n",
      "0\n",
      "3326856598\n",
      "1504348503996\n",
      "1758\n",
      "9\n",
      "1\n",
      "1\n",
      "1\n",
      "1\n",
      "1\n",
      "1\n",
      "0\n"
     ]
    }
   ],
   "source": [
    "for i in range(5):\n",
    "    for j in lol_data[i]:\n",
    "        print(j)"
   ]
  },
  {
   "cell_type": "markdown",
   "metadata": {},
   "source": [
    "# turn the data into something managable by pygm"
   ]
  },
  {
   "cell_type": "code",
   "execution_count": 315,
   "metadata": {},
   "outputs": [
    {
     "name": "stdout",
     "output_type": "stream",
     "text": [
      "[[0.5        0.450166   0.40131234 0.35434369 0.31002552 0.26894142\n",
      "  0.23147522 0.19781611 0.16798161 0.14185106]\n",
      " [0.549834   0.5        0.450166   0.40131234 0.35434369 0.31002552\n",
      "  0.26894142 0.23147522 0.19781611 0.16798161]\n",
      " [0.59868766 0.549834   0.5        0.450166   0.40131234 0.35434369\n",
      "  0.31002552 0.26894142 0.23147522 0.19781611]\n",
      " [0.64565631 0.59868766 0.549834   0.5        0.450166   0.40131234\n",
      "  0.35434369 0.31002552 0.26894142 0.23147522]\n",
      " [0.68997448 0.64565631 0.59868766 0.549834   0.5        0.450166\n",
      "  0.40131234 0.35434369 0.31002552 0.26894142]\n",
      " [0.73105858 0.68997448 0.64565631 0.59868766 0.549834   0.5\n",
      "  0.450166   0.40131234 0.35434369 0.31002552]\n",
      " [0.76852478 0.73105858 0.68997448 0.64565631 0.59868766 0.549834\n",
      "  0.5        0.450166   0.40131234 0.35434369]\n",
      " [0.80218389 0.76852478 0.73105858 0.68997448 0.64565631 0.59868766\n",
      "  0.549834   0.5        0.450166   0.40131234]\n",
      " [0.83201839 0.80218389 0.76852478 0.73105858 0.68997448 0.64565631\n",
      "  0.59868766 0.549834   0.5        0.450166  ]\n",
      " [0.85814894 0.83201839 0.80218389 0.76852478 0.73105858 0.68997448\n",
      "  0.64565631 0.59868766 0.549834   0.5       ]]\n"
     ]
    }
   ],
   "source": [
    "#using 6 combinations, one for each first objective\n",
    "\n",
    "\n",
    "first_combinations=2\n",
    "nlevels=10\n",
    "scale=.2\n",
    "\n",
    "X = [None]*first_combinations\n",
    "for i in range(first_combinations):\n",
    "    X[i] = gm.Var(i, nlevels)  \n",
    "\n",
    "del lol_data[0] #delete the header to avoid fuck ups\n",
    "Pwin = np.zeros( (nlevels,nlevels) )\n",
    "for i in range(nlevels):\n",
    "    for j in range(nlevels):\n",
    "        diff = i-j                   # find the advantage of Pi over Pj, then \n",
    "        Pwin[i,j] = (1./(1+np.exp(-scale*diff)))  # Pwin = logistic of advantage\n",
    "print(Pwin)\n",
    "\n",
    "\n",
    "factors = [ gm.Factor([X[i]],1./nlevels) for i in range(first_combinations) ] #uniform belief over team skill\n",
    "    "
   ]
  },
  {
   "cell_type": "code",
   "execution_count": 316,
   "metadata": {
    "scrolled": true
   },
   "outputs": [
    {
     "name": "stdout",
     "output_type": "stream",
     "text": [
      "Factor({0})\n",
      "Factor({1})\n"
     ]
    }
   ],
   "source": [
    "for i in factors:\n",
    "    print(i)"
   ]
  },
  {
   "cell_type": "code",
   "execution_count": 317,
   "metadata": {
    "scrolled": true
   },
   "outputs": [],
   "source": [
    "#turn the csv into str because oh my god csv's are all strings thats so stupid\n",
    "for i in range(len(lol_data)):\n",
    "    for j in range(len(lol_data[i])):\n",
    "        lol_data[i][j]=int(lol_data[i][j])\n"
   ]
  },
  {
   "cell_type": "code",
   "execution_count": 318,
   "metadata": {},
   "outputs": [
    {
     "name": "stdout",
     "output_type": "stream",
     "text": [
      "2\n",
      "2\n"
     ]
    }
   ],
   "source": [
    "#adding game info\n",
    "print(len(X))\n",
    "print(len(factors))\n",
    "for g in lol_data:\n",
    "    blood,turret,inhib,baron,dragon,harold,win = g[5],g[6],g[7],g[8],g[9],g[10],g[4]\n",
    "    temp=[blood,turret,inhib,baron,dragon,harold,win]\n",
    "    \n",
    "    #check who got the most amount of firsts\n",
    "    t1=0\n",
    "    t2=0\n",
    "    for i in temp:\n",
    "        if i ==1:\n",
    "            t1+=1\n",
    "        elif i==2:\n",
    "            t2+=1\n",
    "            \n",
    "    \n",
    "    #if P1>P2: P1,P2,win=P2,P1,-win  # (need to make player IDs sorted...)\n",
    "    \n",
    "    #for every combination of values, there are two teams and one won.\n",
    "    #each X represents wether or not they got a first objective.\n",
    "    #it will always be in the order thats in the csv (fb=5,ft=6,fi=7,fbaron=8,fd=9,fh=10)\n",
    "    #factors.append(gm.Factor([X[blood],X[turret]], Pwin if win>0 else 1-Pwin) )\n",
    "        \n",
    "    factors.append(gm.Factor( [X[0],X[1]], Pwin if win==1 else 1-Pwin))"
   ]
  },
  {
   "cell_type": "code",
   "execution_count": 319,
   "metadata": {},
   "outputs": [],
   "source": [
    "# for i in factors:\n",
    "\n",
    "#     for j in i.table:\n",
    "#         if type(j) == np.float64:\n",
    "#             continue\n",
    "#         elif 0 in j:\n",
    "#             print(table)"
   ]
  },
  {
   "cell_type": "code",
   "execution_count": 320,
   "metadata": {},
   "outputs": [
    {
     "name": "stdout",
     "output_type": "stream",
     "text": [
      "its working\n"
     ]
    }
   ],
   "source": [
    "model = gm.GraphModel(factors)\n",
    "print(\"its working\")\n",
    "#model.makeMinimal()  # merge any duplicate factors (e.g., repeated games)"
   ]
  },
  {
   "cell_type": "code",
   "execution_count": 321,
   "metadata": {},
   "outputs": [
    {
     "name": "stdout",
     "output_type": "stream",
     "text": [
      "Iter 0: -39692.19621587434\n",
      "Iter 1: -35694.753497175145\n",
      "Iter 2: -35694.753497175145\n",
      "Iter 3: -35694.753497175145\n"
     ]
    }
   ],
   "source": [
    "if model.nvar < 0:       # for very small models, we can do brute force inference:\n",
    "    jt = model.joint()\n",
    "    jt /= jt.sum()       # normalize the distribution and marginalize the table\n",
    "    bel = [jt.marginal([i]) for i in range(nplayers)] \n",
    "else:                    # otherwise we need to use some approximate inference:\n",
    "    from pyGM.messagepass import LBP, NMF\n",
    "    #lnZ,bel = LBP(model, maxIter=10, verbose=True)   # loopy BP\n",
    "    lnZ,bel = NMF(model, maxIter=3, verbose=True)  # Mean field"
   ]
  },
  {
   "cell_type": "code",
   "execution_count": 326,
   "metadata": {},
   "outputs": [
    {
     "name": "stdout",
     "output_type": "stream",
     "text": [
      "Estimated probability P0 beats P1 next time:\n",
      "[0.00000000e+000 0.00000000e+000 0.00000000e+000 0.00000000e+000\n",
      " 3.46405783e-141 1.00000000e+000 1.63641078e-083 0.00000000e+000\n",
      " 0.00000000e+000 0.00000000e+000]\n",
      "[0.00000000e+000 0.00000000e+000 0.00000000e+000 0.00000000e+000\n",
      " 1.63641078e-083 1.00000000e+000 3.46405783e-141 0.00000000e+000\n",
      " 0.00000000e+000 0.00000000e+000]\n"
     ]
    },
    {
     "ename": "TypeError",
     "evalue": "'<' not supported between instances of 'Factor' and 'int'",
     "output_type": "error",
     "traceback": [
      "\u001b[1;31m---------------------------------------------------------------------------\u001b[0m",
      "\u001b[1;31mTypeError\u001b[0m                                 Traceback (most recent call last)",
      "\u001b[1;32m<ipython-input-326-7471389d8ca0>\u001b[0m in \u001b[0;36m<module>\u001b[1;34m\u001b[0m\n\u001b[0;32m      4\u001b[0m \u001b[1;32mfor\u001b[0m \u001b[0mi\u001b[0m \u001b[1;32min\u001b[0m \u001b[0mbel\u001b[0m\u001b[1;33m:\u001b[0m\u001b[1;33m\u001b[0m\u001b[1;33m\u001b[0m\u001b[0m\n\u001b[0;32m      5\u001b[0m     \u001b[0mprint\u001b[0m\u001b[1;33m(\u001b[0m\u001b[0mi\u001b[0m\u001b[1;33m.\u001b[0m\u001b[0mtable\u001b[0m\u001b[1;33m)\u001b[0m\u001b[1;33m\u001b[0m\u001b[1;33m\u001b[0m\u001b[0m\n\u001b[1;32m----> 6\u001b[1;33m \u001b[1;32mif\u001b[0m \u001b[0mi\u001b[0m\u001b[1;33m<\u001b[0m\u001b[0mj\u001b[0m\u001b[1;33m:\u001b[0m\u001b[1;33m\u001b[0m\u001b[1;33m\u001b[0m\u001b[0m\n\u001b[0m\u001b[0;32m      7\u001b[0m     \u001b[0mprint\u001b[0m\u001b[1;33m(\u001b[0m \u001b[1;33m(\u001b[0m\u001b[0mbel\u001b[0m\u001b[1;33m[\u001b[0m\u001b[0mi\u001b[0m\u001b[1;33m]\u001b[0m\u001b[1;33m*\u001b[0m\u001b[0mbel\u001b[0m\u001b[1;33m[\u001b[0m\u001b[0mj\u001b[0m\u001b[1;33m]\u001b[0m\u001b[1;33m*\u001b[0m\u001b[0mgm\u001b[0m\u001b[1;33m.\u001b[0m\u001b[0mFactor\u001b[0m\u001b[1;33m(\u001b[0m\u001b[1;33m[\u001b[0m\u001b[0mX\u001b[0m\u001b[1;33m[\u001b[0m\u001b[0mi\u001b[0m\u001b[1;33m]\u001b[0m\u001b[1;33m,\u001b[0m\u001b[0mX\u001b[0m\u001b[1;33m[\u001b[0m\u001b[0mj\u001b[0m\u001b[1;33m]\u001b[0m\u001b[1;33m]\u001b[0m\u001b[1;33m,\u001b[0m\u001b[0mPwin\u001b[0m\u001b[1;33m)\u001b[0m\u001b[1;33m)\u001b[0m\u001b[1;33m.\u001b[0m\u001b[0mtable\u001b[0m\u001b[1;33m.\u001b[0m\u001b[0msum\u001b[0m\u001b[1;33m(\u001b[0m\u001b[1;33m)\u001b[0m \u001b[1;33m)\u001b[0m\u001b[1;33m\u001b[0m\u001b[1;33m\u001b[0m\u001b[0m\n\u001b[0;32m      8\u001b[0m \u001b[1;32melse\u001b[0m\u001b[1;33m:\u001b[0m\u001b[1;33m\u001b[0m\u001b[1;33m\u001b[0m\u001b[0m\n",
      "\u001b[1;31mTypeError\u001b[0m: '<' not supported between instances of 'Factor' and 'int'"
     ]
    }
   ],
   "source": [
    "i,j = 0,1\n",
    "print(\"Estimated probability P{} beats P{} next time:\".format(i,j))\n",
    "# Expected value (over skill of P0, P1) of Pr[win | P0-P1]\n",
    "for i in bel:\n",
    "    print(i.table)\n",
    "if i<j:\n",
    "    print( (bel[i]*bel[j]*gm.Factor([X[i],X[j]],Pwin)).table.sum() )\n",
    "else:\n",
    "    print( (bel[i]*bel[j]*gm.Factor([X[i],X[j]],1-Pwin)).table.sum() )"
   ]
  },
  {
   "cell_type": "code",
   "execution_count": null,
   "metadata": {},
   "outputs": [],
   "source": []
  }
 ],
 "metadata": {
  "kernelspec": {
   "display_name": "Python 3",
   "language": "python",
   "name": "python3"
  },
  "language_info": {
   "codemirror_mode": {
    "name": "ipython",
    "version": 3
   },
   "file_extension": ".py",
   "mimetype": "text/x-python",
   "name": "python",
   "nbconvert_exporter": "python",
   "pygments_lexer": "ipython3",
   "version": "3.7.4"
  },
  "widgets": {
   "application/vnd.jupyter.widget-state+json": {
    "state": {},
    "version_major": 2,
    "version_minor": 0
   }
  }
 },
 "nbformat": 4,
 "nbformat_minor": 2
}
