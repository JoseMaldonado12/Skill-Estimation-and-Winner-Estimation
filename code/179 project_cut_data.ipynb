{
 "cells": [
  {
   "cell_type": "code",
   "execution_count": 5,
   "metadata": {},
   "outputs": [],
   "source": [
    "import numpy as np\n",
    "import csv\n",
    "\n",
    "with open(\"../league of legends/games.csv\", newline='') as i:\n",
    "    reader = csv.reader(i)\n",
    "    lol_data= list(reader)\n",
    "\n",
    "\n"
   ]
  },
  {
   "cell_type": "markdown",
   "metadata": {},
   "source": [
    "# Below it cuts all the fat off the data"
   ]
  },
  {
   "cell_type": "code",
   "execution_count": 16,
   "metadata": {},
   "outputs": [
    {
     "name": "stdout",
     "output_type": "stream",
     "text": [
      "['gameId', 'creationTime', 'gameDuration', 'seasonId', 'winner', 'firstBlood', 'firstTower', 'firstInhibitor', 'firstBaron', 'firstDragon', 'firstRiftHerald']\n",
      "['3326086514', '1504279457970', '1949', '9', '1', '2', '1', '1', '1', '1', '2']\n",
      "['3229566029', '1497848803862', '1851', '9', '1', '1', '1', '1', '0', '1', '1']\n",
      "['3327363504', '1504360103310', '1493', '9', '1', '2', '1', '1', '1', '2', '0']\n",
      "['3326856598', '1504348503996', '1758', '9', '1', '1', '1', '1', '1', '1', '0']\n",
      "['3330080762', '1504554410899', '2094', '9', '1', '2', '1', '1', '1', '1', '0']\n",
      "['3287435705', '1501667992132', '2059', '9', '1', '2', '2', '1', '1', '2', '0']\n",
      "['3314215542', '1503430065724', '1993', '9', '1', '1', '2', '1', '1', '1', '1']\n",
      "['3329224025', '1504472363684', '1334', '9', '1', '1', '1', '0', '0', '2', '1']\n",
      "['3318040883', '1503686577549', '1387', '9', '2', '2', '2', '2', '0', '2', '2']\n",
      "['3327786881', '1504385918871', '2681', '9', '2', '2', '2', '2', '2', '2', '0']\n",
      "['3325996400', '1504273919929', '1391', '9', '2', '2', '2', '2', '2', '2', '2']\n",
      "['3284613292', '1501452879926', '1671', '9', '1', '1', '2', '1', '0', '2', '1']\n",
      "['3321570535', '1503947039120', '2071', '9', '1', '1', '1', '0', '1', '2', '1']\n",
      "['3323144943', '1504057872709', '1942', '9', '1', '2', '2', '1', '0', '1', '0']\n",
      "['3329332855', '1504479222082', '2374', '9', '2', '2', '2', '1', '1', '2', '0']\n",
      "['3322311228', '1503994240897', '1717', '9', '1', '2', '1', '1', '0', '1', '0']\n",
      "['3316242660', '1503574693354', '2390', '9', '2', '2', '2', '2', '2', '2', '0']\n",
      "['3330057565', '1504555731094', '1994', '9', '1', '2', '1', '1', '1', '1', '1']\n",
      "['3318940474', '1503749118008', '1513', '9', '2', '1', '2', '2', '0', '2', '0']\n"
     ]
    }
   ],
   "source": [
    "#0=gameid\n",
    "#1=creationtime\n",
    "#2=game duration\n",
    "#3=seasonid\n",
    "#4=winner\n",
    "#5=first blood\n",
    "#6= first tower\n",
    "#7=first inhib\n",
    "#8=first baron\n",
    "#9=first dragon\n",
    "#10=first harold\n",
    "#11=t1_champ (stop here)\n",
    "\n",
    "\n",
    "# counter=0\n",
    "# for i in lol_data:\n",
    "#     print(i[11:len(i)])\n",
    "#     counter+=1\n",
    "#     if counter == 20:\n",
    "#         break\n",
    "        \n",
    "for column in lol_data:\n",
    "    del column[11:len(column)]\n",
    "\n",
    "for i in range(20):\n",
    "    print(lol_data[i])\n"
   ]
  },
  {
   "cell_type": "markdown",
   "metadata": {},
   "source": [
    "# Below it saves into csv. only run once."
   ]
  },
  {
   "cell_type": "code",
   "execution_count": 18,
   "metadata": {},
   "outputs": [],
   "source": [
    "directory=r\"..\\league of legends\\cut_data\"\n",
    "\n",
    "\n",
    "with open(directory+\"\\\\\"+\"lol_cut.csv\",'w') as csvfile:\n",
    "    filewriter = csv.writer(csvfile, delimiter=',',lineterminator = '\\n')\n",
    "    for row in lol_data:\n",
    "        filewriter.writerow(row)"
   ]
  },
  {
   "cell_type": "code",
   "execution_count": null,
   "metadata": {},
   "outputs": [],
   "source": []
  }
 ],
 "metadata": {
  "kernelspec": {
   "display_name": "Python 3",
   "language": "python",
   "name": "python3"
  },
  "language_info": {
   "codemirror_mode": {
    "name": "ipython",
    "version": 3
   },
   "file_extension": ".py",
   "mimetype": "text/x-python",
   "name": "python",
   "nbconvert_exporter": "python",
   "pygments_lexer": "ipython3",
   "version": "3.7.4"
  }
 },
 "nbformat": 4,
 "nbformat_minor": 2
}
